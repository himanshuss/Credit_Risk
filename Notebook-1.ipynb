{
 "cells": [
  {
   "cell_type": "code",
   "execution_count": 8,
   "id": "6661cd74",
   "metadata": {},
   "outputs": [],
   "source": [
    "#Load the libraries\n",
    "\n",
    "import pandas as pd\n",
    "import numpy as np\n",
    "import matplotlib.pyplot as plt\n",
    "import seaborn as sns\n",
    "#from pandas_profiling import ProfileReport\n",
    "import plotly as pot\n",
    "import plotly.express as px\n",
    "import lazypredict\n",
    "from lazypredict.Supervised import LazyClassifier\n",
    "from sklearn.model_selection import train_test_split\n"
   ]
  },
  {
   "cell_type": "code",
   "execution_count": 22,
   "id": "09b0848d",
   "metadata": {},
   "outputs": [
    {
     "data": {
      "text/html": [
       "<div>\n",
       "<style scoped>\n",
       "    .dataframe tbody tr th:only-of-type {\n",
       "        vertical-align: middle;\n",
       "    }\n",
       "\n",
       "    .dataframe tbody tr th {\n",
       "        vertical-align: top;\n",
       "    }\n",
       "\n",
       "    .dataframe thead th {\n",
       "        text-align: right;\n",
       "    }\n",
       "</style>\n",
       "<table border=\"1\" class=\"dataframe\">\n",
       "  <thead>\n",
       "    <tr style=\"text-align: right;\">\n",
       "      <th></th>\n",
       "      <th>funded_amnt</th>\n",
       "      <th>term</th>\n",
       "      <th>installment</th>\n",
       "      <th>grade</th>\n",
       "      <th>sub_grade</th>\n",
       "      <th>emp_length</th>\n",
       "      <th>home_ownership</th>\n",
       "      <th>annual_inc</th>\n",
       "      <th>verification_status</th>\n",
       "      <th>loan_status</th>\n",
       "      <th>purpose</th>\n",
       "      <th>dti</th>\n",
       "      <th>open_acc</th>\n",
       "      <th>pub_rec</th>\n",
       "      <th>revol_util</th>\n",
       "      <th>total_acc</th>\n",
       "      <th>application_type</th>\n",
       "      <th>acc_now_delinq</th>\n",
       "      <th>tot_cur_bal</th>\n",
       "    </tr>\n",
       "  </thead>\n",
       "  <tbody>\n",
       "    <tr>\n",
       "      <th>0</th>\n",
       "      <td>5000</td>\n",
       "      <td>36</td>\n",
       "      <td>162.87</td>\n",
       "      <td>B</td>\n",
       "      <td>B2</td>\n",
       "      <td>10</td>\n",
       "      <td>RENT</td>\n",
       "      <td>24000</td>\n",
       "      <td>Verified</td>\n",
       "      <td>0</td>\n",
       "      <td>credit_card</td>\n",
       "      <td>27.65</td>\n",
       "      <td>3</td>\n",
       "      <td>0</td>\n",
       "      <td>83.70</td>\n",
       "      <td>9</td>\n",
       "      <td>INDIVIDUAL</td>\n",
       "      <td>0</td>\n",
       "      <td>139365</td>\n",
       "    </tr>\n",
       "    <tr>\n",
       "      <th>1</th>\n",
       "      <td>2500</td>\n",
       "      <td>60</td>\n",
       "      <td>59.83</td>\n",
       "      <td>C</td>\n",
       "      <td>C4</td>\n",
       "      <td>0</td>\n",
       "      <td>RENT</td>\n",
       "      <td>30000</td>\n",
       "      <td>Source Verified</td>\n",
       "      <td>1</td>\n",
       "      <td>car</td>\n",
       "      <td>1.00</td>\n",
       "      <td>3</td>\n",
       "      <td>0</td>\n",
       "      <td>9.40</td>\n",
       "      <td>4</td>\n",
       "      <td>INDIVIDUAL</td>\n",
       "      <td>0</td>\n",
       "      <td>139365</td>\n",
       "    </tr>\n",
       "    <tr>\n",
       "      <th>2</th>\n",
       "      <td>2400</td>\n",
       "      <td>36</td>\n",
       "      <td>84.33</td>\n",
       "      <td>C</td>\n",
       "      <td>C5</td>\n",
       "      <td>10</td>\n",
       "      <td>RENT</td>\n",
       "      <td>12252</td>\n",
       "      <td>Not Verified</td>\n",
       "      <td>0</td>\n",
       "      <td>small_business</td>\n",
       "      <td>8.72</td>\n",
       "      <td>2</td>\n",
       "      <td>0</td>\n",
       "      <td>98.50</td>\n",
       "      <td>10</td>\n",
       "      <td>INDIVIDUAL</td>\n",
       "      <td>0</td>\n",
       "      <td>139365</td>\n",
       "    </tr>\n",
       "    <tr>\n",
       "      <th>3</th>\n",
       "      <td>10000</td>\n",
       "      <td>36</td>\n",
       "      <td>339.31</td>\n",
       "      <td>C</td>\n",
       "      <td>C1</td>\n",
       "      <td>10</td>\n",
       "      <td>RENT</td>\n",
       "      <td>49200</td>\n",
       "      <td>Source Verified</td>\n",
       "      <td>0</td>\n",
       "      <td>other</td>\n",
       "      <td>20.00</td>\n",
       "      <td>10</td>\n",
       "      <td>0</td>\n",
       "      <td>21.00</td>\n",
       "      <td>37</td>\n",
       "      <td>INDIVIDUAL</td>\n",
       "      <td>0</td>\n",
       "      <td>139365</td>\n",
       "    </tr>\n",
       "    <tr>\n",
       "      <th>4</th>\n",
       "      <td>3000</td>\n",
       "      <td>60</td>\n",
       "      <td>67.79</td>\n",
       "      <td>B</td>\n",
       "      <td>B5</td>\n",
       "      <td>1</td>\n",
       "      <td>RENT</td>\n",
       "      <td>80000</td>\n",
       "      <td>Source Verified</td>\n",
       "      <td>0</td>\n",
       "      <td>other</td>\n",
       "      <td>17.94</td>\n",
       "      <td>15</td>\n",
       "      <td>0</td>\n",
       "      <td>53.90</td>\n",
       "      <td>38</td>\n",
       "      <td>INDIVIDUAL</td>\n",
       "      <td>0</td>\n",
       "      <td>139365</td>\n",
       "    </tr>\n",
       "  </tbody>\n",
       "</table>\n",
       "</div>"
      ],
      "text/plain": [
       "   funded_amnt  term  installment grade sub_grade  emp_length home_ownership  \\\n",
       "0         5000    36       162.87     B        B2          10           RENT   \n",
       "1         2500    60        59.83     C        C4           0           RENT   \n",
       "2         2400    36        84.33     C        C5          10           RENT   \n",
       "3        10000    36       339.31     C        C1          10           RENT   \n",
       "4         3000    60        67.79     B        B5           1           RENT   \n",
       "\n",
       "   annual_inc verification_status  loan_status         purpose   dti  \\\n",
       "0       24000            Verified            0     credit_card 27.65   \n",
       "1       30000     Source Verified            1             car  1.00   \n",
       "2       12252        Not Verified            0  small_business  8.72   \n",
       "3       49200     Source Verified            0           other 20.00   \n",
       "4       80000     Source Verified            0           other 17.94   \n",
       "\n",
       "   open_acc  pub_rec  revol_util  total_acc application_type  acc_now_delinq  \\\n",
       "0         3        0       83.70          9       INDIVIDUAL               0   \n",
       "1         3        0        9.40          4       INDIVIDUAL               0   \n",
       "2         2        0       98.50         10       INDIVIDUAL               0   \n",
       "3        10        0       21.00         37       INDIVIDUAL               0   \n",
       "4        15        0       53.90         38       INDIVIDUAL               0   \n",
       "\n",
       "   tot_cur_bal  \n",
       "0       139365  \n",
       "1       139365  \n",
       "2       139365  \n",
       "3       139365  \n",
       "4       139365  "
      ]
     },
     "execution_count": 22,
     "metadata": {},
     "output_type": "execute_result"
    }
   ],
   "source": [
    "data=pd.read_csv(\"/Users/himanshusahrawat/ALP-1/datasets/loan/loan_20col.csv\")\n",
    "data.head()"
   ]
  },
  {
   "cell_type": "code",
   "execution_count": 24,
   "id": "733187f5",
   "metadata": {},
   "outputs": [
    {
     "name": "stdout",
     "output_type": "stream",
     "text": [
      "0.9233145875549281\n"
     ]
    }
   ],
   "source": [
    "a=data[\"loan_status\"].value_counts()\n",
    "print((a[0])/a.sum())"
   ]
  },
  {
   "cell_type": "code",
   "execution_count": 25,
   "id": "6d1f1b04",
   "metadata": {},
   "outputs": [
    {
     "data": {
      "text/plain": [
       "0    811058\n",
       "1     67362\n",
       "Name: loan_status, dtype: int64"
      ]
     },
     "execution_count": 25,
     "metadata": {},
     "output_type": "execute_result"
    }
   ],
   "source": [
    "a"
   ]
  },
  {
   "cell_type": "markdown",
   "id": "d127c607",
   "metadata": {},
   "source": [
    "Dataset is highly imbalanced."
   ]
  },
  {
   "cell_type": "code",
   "execution_count": 26,
   "id": "6d0c1ce4",
   "metadata": {},
   "outputs": [
    {
     "name": "stdout",
     "output_type": "stream",
     "text": [
      "0.07668\n"
     ]
    }
   ],
   "source": [
    "#taking 50k data with startified sampling\n",
    "\n",
    "from sklearn.model_selection import StratifiedShuffleSplit\n",
    "split = StratifiedShuffleSplit(n_splits=1, train_size=50000, random_state=42)\n",
    "for train_index, test_index in split.split(data, data['loan_status']):\n",
    "    strat_train_set = data.loc[train_index]\n",
    "    strat_test_set = data.loc[test_index]\n",
    "    \n",
    "    \n",
    "#checking the 50k dataset distribution\n",
    "\n",
    "a=strat_train_set[\"loan_status\"].value_counts()\n",
    "print((a[1])/a.sum())"
   ]
  },
  {
   "cell_type": "code",
   "execution_count": 27,
   "id": "5c842aa3",
   "metadata": {},
   "outputs": [
    {
     "name": "stdout",
     "output_type": "stream",
     "text": [
      "x shape : (50000, 18)\n",
      "y shape : (50000,)\n"
     ]
    }
   ],
   "source": [
    "### separating dataset into dependent and independent features, testing algos on 50k data to get an idea of model\n",
    "### performance. \n",
    "y = strat_train_set[\"loan_status\"]\n",
    "x = strat_train_set.drop(columns=[\"loan_status\"])\n",
    "\n",
    "print(\"x shape :\", x.shape)\n",
    "\n",
    "print(\"y shape :\", y.shape)"
   ]
  },
  {
   "cell_type": "code",
   "execution_count": 28,
   "id": "3b92ce54",
   "metadata": {},
   "outputs": [],
   "source": [
    "X_train, X_test, y_train, y_test = train_test_split(x, y, test_size=.3, random_state =123)"
   ]
  },
  {
   "cell_type": "code",
   "execution_count": 29,
   "id": "e1f22b3e",
   "metadata": {},
   "outputs": [
    {
     "name": "stdout",
     "output_type": "stream",
     "text": [
      "X_train shape : (35000, 18)\n",
      "X_test shape : (15000, 18)\n",
      "y_train shape : (35000,)\n",
      "y_test shape : (15000,)\n"
     ]
    }
   ],
   "source": [
    "print(\"X_train shape :\", X_train.shape)\n",
    "\n",
    "print(\"X_test shape :\", X_test.shape)\n",
    "\n",
    "print(\"y_train shape :\", y_train.shape)\n",
    "\n",
    "print(\"y_test shape :\", y_test.shape)"
   ]
  },
  {
   "cell_type": "code",
   "execution_count": 33,
   "id": "3f92a78f",
   "metadata": {},
   "outputs": [
    {
     "data": {
      "text/plain": [
       "0    13846\n",
       "1     1154\n",
       "Name: loan_status, dtype: int64"
      ]
     },
     "execution_count": 33,
     "metadata": {},
     "output_type": "execute_result"
    }
   ],
   "source": [
    "a=y_test.value_counts()\n",
    "a"
   ]
  },
  {
   "cell_type": "code",
   "execution_count": 10,
   "id": "9cff08a2",
   "metadata": {},
   "outputs": [
    {
     "name": "stderr",
     "output_type": "stream",
     "text": [
      "100%|███████████████████████████████████████████| 29/29 [06:04<00:00, 12.58s/it]"
     ]
    },
    {
     "name": "stdout",
     "output_type": "stream",
     "text": [
      "                               Accuracy  Balanced Accuracy  ROC AUC  F1 Score  \\\n",
      "Model                                                                           \n",
      "NearestCentroid                    0.63               0.60     0.60      0.72   \n",
      "Perceptron                         0.86               0.55     0.55      0.86   \n",
      "LabelSpreading                     0.86               0.52     0.52      0.86   \n",
      "LabelPropagation                   0.86               0.52     0.52      0.86   \n",
      "DecisionTreeClassifier             0.85               0.52     0.52      0.86   \n",
      "ExtraTreeClassifier                0.86               0.51     0.51      0.86   \n",
      "GaussianNB                         0.10               0.51     0.51      0.06   \n",
      "KNeighborsClassifier               0.92               0.50     0.50      0.89   \n",
      "XGBClassifier                      0.92               0.50     0.50      0.89   \n",
      "LinearDiscriminantAnalysis         0.92               0.50     0.50      0.89   \n",
      "LGBMClassifier                     0.92               0.50     0.50      0.89   \n",
      "QuadraticDiscriminantAnalysis      0.08               0.50     0.50      0.01   \n",
      "ExtraTreesClassifier               0.92               0.50     0.50      0.89   \n",
      "BernoulliNB                        0.92               0.50     0.50      0.89   \n",
      "BaggingClassifier                  0.92               0.50     0.50      0.89   \n",
      "AdaBoostClassifier                 0.92               0.50     0.50      0.89   \n",
      "DummyClassifier                    0.92               0.50     0.50      0.89   \n",
      "RidgeClassifierCV                  0.92               0.50     0.50      0.89   \n",
      "SGDClassifier                      0.92               0.50     0.50      0.89   \n",
      "SVC                                0.92               0.50     0.50      0.89   \n",
      "LogisticRegression                 0.92               0.50     0.50      0.89   \n",
      "RandomForestClassifier             0.92               0.50     0.50      0.89   \n",
      "RidgeClassifier                    0.92               0.50     0.50      0.89   \n",
      "LinearSVC                          0.92               0.50     0.50      0.89   \n",
      "CalibratedClassifierCV             0.92               0.50     0.50      0.89   \n",
      "PassiveAggressiveClassifier        0.92               0.50     0.50      0.88   \n",
      "\n",
      "                               Time Taken  \n",
      "Model                                      \n",
      "NearestCentroid                      0.11  \n",
      "Perceptron                           0.15  \n",
      "LabelSpreading                     147.43  \n",
      "LabelPropagation                   102.11  \n",
      "DecisionTreeClassifier               0.46  \n",
      "ExtraTreeClassifier                  0.13  \n",
      "GaussianNB                           0.14  \n",
      "KNeighborsClassifier                 0.84  \n",
      "XGBClassifier                        1.62  \n",
      "LinearDiscriminantAnalysis           0.30  \n",
      "LGBMClassifier                       0.31  \n",
      "QuadraticDiscriminantAnalysis        0.16  \n",
      "ExtraTreesClassifier                 2.62  \n",
      "BernoulliNB                          0.13  \n",
      "BaggingClassifier                    2.32  \n",
      "AdaBoostClassifier                   1.71  \n",
      "DummyClassifier                      0.10  \n",
      "RidgeClassifierCV                    0.17  \n",
      "SGDClassifier                        0.37  \n",
      "SVC                                 74.95  \n",
      "LogisticRegression                   0.31  \n",
      "RandomForestClassifier               4.28  \n",
      "RidgeClassifier                      0.14  \n",
      "LinearSVC                            5.63  \n",
      "CalibratedClassifierCV              18.00  \n",
      "PassiveAggressiveClassifier          0.16  \n"
     ]
    },
    {
     "name": "stderr",
     "output_type": "stream",
     "text": [
      "\n"
     ]
    }
   ],
   "source": [
    "clf = LazyClassifier(verbose=0, ignore_warnings=True, custom_metric = None)\n",
    "### fitting data in LazyClassifier\n",
    "models,predictions = clf.fit(X_train, X_test, y_train, y_test)\n",
    "### lets check model performance\n",
    "print(models)"
   ]
  },
  {
   "cell_type": "markdown",
   "id": "8e2f6b58",
   "metadata": {},
   "source": [
    "We have to check if the model is not getting overfiting and we will try to improve the accuracy. As you can see, only about 7.6% of the observations were balanced. Therefore, if we were to always predict 0, we’d achieve an accuracy of 92%. "
   ]
  },
  {
   "cell_type": "markdown",
   "id": "08b10c17",
   "metadata": {},
   "source": [
    "## Downsampling"
   ]
  },
  {
   "cell_type": "markdown",
   "id": "7e2a3e93",
   "metadata": {},
   "source": [
    "#### Structure\n",
    ".\n",
    ".\n",
    "\n",
    ".\n",
    "\n",
    ".\n",
    "\n",
    ".\n",
    "\n",
    ".\n",
    "\n",
    ".\n",
    "\n",
    "....."
   ]
  },
  {
   "cell_type": "code",
   "execution_count": 103,
   "id": "91fd59f7",
   "metadata": {},
   "outputs": [
    {
     "data": {
      "text/html": [
       "<div>\n",
       "<style scoped>\n",
       "    .dataframe tbody tr th:only-of-type {\n",
       "        vertical-align: middle;\n",
       "    }\n",
       "\n",
       "    .dataframe tbody tr th {\n",
       "        vertical-align: top;\n",
       "    }\n",
       "\n",
       "    .dataframe thead th {\n",
       "        text-align: right;\n",
       "    }\n",
       "</style>\n",
       "<table border=\"1\" class=\"dataframe\">\n",
       "  <thead>\n",
       "    <tr style=\"text-align: right;\">\n",
       "      <th></th>\n",
       "      <th>funded_amnt</th>\n",
       "      <th>term</th>\n",
       "      <th>installment</th>\n",
       "      <th>grade</th>\n",
       "      <th>sub_grade</th>\n",
       "      <th>emp_length</th>\n",
       "      <th>home_ownership</th>\n",
       "      <th>annual_inc</th>\n",
       "      <th>verification_status</th>\n",
       "      <th>loan_status</th>\n",
       "      <th>purpose</th>\n",
       "      <th>dti</th>\n",
       "      <th>open_acc</th>\n",
       "      <th>pub_rec</th>\n",
       "      <th>revol_util</th>\n",
       "      <th>total_acc</th>\n",
       "      <th>application_type</th>\n",
       "      <th>acc_now_delinq</th>\n",
       "      <th>tot_cur_bal</th>\n",
       "    </tr>\n",
       "  </thead>\n",
       "  <tbody>\n",
       "    <tr>\n",
       "      <th>0</th>\n",
       "      <td>5000</td>\n",
       "      <td>36</td>\n",
       "      <td>162.87</td>\n",
       "      <td>B</td>\n",
       "      <td>B2</td>\n",
       "      <td>10</td>\n",
       "      <td>RENT</td>\n",
       "      <td>24000</td>\n",
       "      <td>Verified</td>\n",
       "      <td>0</td>\n",
       "      <td>credit_card</td>\n",
       "      <td>27.65</td>\n",
       "      <td>3</td>\n",
       "      <td>0</td>\n",
       "      <td>83.70</td>\n",
       "      <td>9</td>\n",
       "      <td>INDIVIDUAL</td>\n",
       "      <td>0</td>\n",
       "      <td>139365</td>\n",
       "    </tr>\n",
       "    <tr>\n",
       "      <th>1</th>\n",
       "      <td>2500</td>\n",
       "      <td>60</td>\n",
       "      <td>59.83</td>\n",
       "      <td>C</td>\n",
       "      <td>C4</td>\n",
       "      <td>0</td>\n",
       "      <td>RENT</td>\n",
       "      <td>30000</td>\n",
       "      <td>Source Verified</td>\n",
       "      <td>1</td>\n",
       "      <td>car</td>\n",
       "      <td>1.00</td>\n",
       "      <td>3</td>\n",
       "      <td>0</td>\n",
       "      <td>9.40</td>\n",
       "      <td>4</td>\n",
       "      <td>INDIVIDUAL</td>\n",
       "      <td>0</td>\n",
       "      <td>139365</td>\n",
       "    </tr>\n",
       "    <tr>\n",
       "      <th>2</th>\n",
       "      <td>2400</td>\n",
       "      <td>36</td>\n",
       "      <td>84.33</td>\n",
       "      <td>C</td>\n",
       "      <td>C5</td>\n",
       "      <td>10</td>\n",
       "      <td>RENT</td>\n",
       "      <td>12252</td>\n",
       "      <td>Not Verified</td>\n",
       "      <td>0</td>\n",
       "      <td>small_business</td>\n",
       "      <td>8.72</td>\n",
       "      <td>2</td>\n",
       "      <td>0</td>\n",
       "      <td>98.50</td>\n",
       "      <td>10</td>\n",
       "      <td>INDIVIDUAL</td>\n",
       "      <td>0</td>\n",
       "      <td>139365</td>\n",
       "    </tr>\n",
       "    <tr>\n",
       "      <th>3</th>\n",
       "      <td>10000</td>\n",
       "      <td>36</td>\n",
       "      <td>339.31</td>\n",
       "      <td>C</td>\n",
       "      <td>C1</td>\n",
       "      <td>10</td>\n",
       "      <td>RENT</td>\n",
       "      <td>49200</td>\n",
       "      <td>Source Verified</td>\n",
       "      <td>0</td>\n",
       "      <td>other</td>\n",
       "      <td>20.00</td>\n",
       "      <td>10</td>\n",
       "      <td>0</td>\n",
       "      <td>21.00</td>\n",
       "      <td>37</td>\n",
       "      <td>INDIVIDUAL</td>\n",
       "      <td>0</td>\n",
       "      <td>139365</td>\n",
       "    </tr>\n",
       "    <tr>\n",
       "      <th>4</th>\n",
       "      <td>3000</td>\n",
       "      <td>60</td>\n",
       "      <td>67.79</td>\n",
       "      <td>B</td>\n",
       "      <td>B5</td>\n",
       "      <td>1</td>\n",
       "      <td>RENT</td>\n",
       "      <td>80000</td>\n",
       "      <td>Source Verified</td>\n",
       "      <td>0</td>\n",
       "      <td>other</td>\n",
       "      <td>17.94</td>\n",
       "      <td>15</td>\n",
       "      <td>0</td>\n",
       "      <td>53.90</td>\n",
       "      <td>38</td>\n",
       "      <td>INDIVIDUAL</td>\n",
       "      <td>0</td>\n",
       "      <td>139365</td>\n",
       "    </tr>\n",
       "  </tbody>\n",
       "</table>\n",
       "</div>"
      ],
      "text/plain": [
       "   funded_amnt  term  installment grade sub_grade  emp_length home_ownership  \\\n",
       "0         5000    36       162.87     B        B2          10           RENT   \n",
       "1         2500    60        59.83     C        C4           0           RENT   \n",
       "2         2400    36        84.33     C        C5          10           RENT   \n",
       "3        10000    36       339.31     C        C1          10           RENT   \n",
       "4         3000    60        67.79     B        B5           1           RENT   \n",
       "\n",
       "   annual_inc verification_status  loan_status         purpose   dti  \\\n",
       "0       24000            Verified            0     credit_card 27.65   \n",
       "1       30000     Source Verified            1             car  1.00   \n",
       "2       12252        Not Verified            0  small_business  8.72   \n",
       "3       49200     Source Verified            0           other 20.00   \n",
       "4       80000     Source Verified            0           other 17.94   \n",
       "\n",
       "   open_acc  pub_rec  revol_util  total_acc application_type  acc_now_delinq  \\\n",
       "0         3        0       83.70          9       INDIVIDUAL               0   \n",
       "1         3        0        9.40          4       INDIVIDUAL               0   \n",
       "2         2        0       98.50         10       INDIVIDUAL               0   \n",
       "3        10        0       21.00         37       INDIVIDUAL               0   \n",
       "4        15        0       53.90         38       INDIVIDUAL               0   \n",
       "\n",
       "   tot_cur_bal  \n",
       "0       139365  \n",
       "1       139365  \n",
       "2       139365  \n",
       "3       139365  \n",
       "4       139365  "
      ]
     },
     "execution_count": 103,
     "metadata": {},
     "output_type": "execute_result"
    }
   ],
   "source": [
    "data=pd.read_csv(\"/Users/himanshusahrawat/ALP-1/datasets/loan/loan_20_outliers.csv\")\n",
    "data.head()"
   ]
  },
  {
   "cell_type": "code",
   "execution_count": 104,
   "id": "9d9d6946",
   "metadata": {},
   "outputs": [
    {
     "name": "stdout",
     "output_type": "stream",
     "text": [
      "train shape : (808533, 19)\n",
      "test shape : (42555, 19)\n"
     ]
    }
   ],
   "source": [
    "# break the whole data into 95%(training for downsampling)-5%(test).\n",
    "\n",
    "train, test = train_test_split(data, test_size=.05, random_state =123)\n",
    "\n",
    "print(\"train shape :\", train.shape)\n",
    "\n",
    "print(\"test shape :\", test.shape)"
   ]
  },
  {
   "cell_type": "code",
   "execution_count": 105,
   "id": "3db45c56",
   "metadata": {},
   "outputs": [
    {
     "data": {
      "text/plain": [
       "0    746258\n",
       "1     62275\n",
       "Name: loan_status, dtype: int64"
      ]
     },
     "execution_count": 105,
     "metadata": {},
     "output_type": "execute_result"
    }
   ],
   "source": [
    "#check the balancing of train dataset\n",
    "\n",
    "a=train[\"loan_status\"].value_counts()\n",
    "a"
   ]
  },
  {
   "cell_type": "code",
   "execution_count": 106,
   "id": "94a64ee7",
   "metadata": {},
   "outputs": [
    {
     "data": {
      "text/plain": [
       "0    160000\n",
       "1     62275\n",
       "Name: loan_status, dtype: int64"
      ]
     },
     "execution_count": 106,
     "metadata": {},
     "output_type": "execute_result"
    }
   ],
   "source": [
    "from sklearn.utils import resample\n",
    "# downsample the majority class \n",
    "\n",
    "df_majority = train[train.loan_status==0]\n",
    "df_minority = train[train.loan_status==1]\n",
    " \n",
    "\n",
    "df_majority_downsampled = resample(df_majority, \n",
    "                                 replace=False,    # sample without replacement\n",
    "                                 n_samples=160000,     # to match minority class\n",
    "                                 random_state=123) # reproducible results\n",
    " \n",
    "# Combine minority class with downsampled majority class\n",
    "train_downsampled = pd.concat([df_majority_downsampled, df_minority])\n",
    " \n",
    "# Display new class counts\n",
    "train_downsampled.loan_status.value_counts()"
   ]
  },
  {
   "cell_type": "code",
   "execution_count": 107,
   "id": "2243547e",
   "metadata": {},
   "outputs": [],
   "source": [
    "# taking 50k data only for traning\n",
    "\n",
    "#taking 50k data with startified sampling\n",
    "\n",
    "train_35k, test = train_test_split(train_downsampled, train_size=35000, random_state =32)\n",
    "\n",
    "# 20k test data\n",
    "split = StratifiedShuffleSplit(n_splits=1, test_size=15000, random_state=42)\n",
    "for train_index, test_index in split.split(test, test['loan_status']):\n",
    "    strat_test_15k = data.loc[test_index]"
   ]
  },
  {
   "cell_type": "code",
   "execution_count": 108,
   "id": "c82320ed",
   "metadata": {},
   "outputs": [
    {
     "data": {
      "text/plain": [
       "0    25307\n",
       "1     9693\n",
       "Name: loan_status, dtype: int64"
      ]
     },
     "execution_count": 108,
     "metadata": {},
     "output_type": "execute_result"
    }
   ],
   "source": [
    "train_35k[\"loan_status\"].value_counts()"
   ]
  },
  {
   "cell_type": "code",
   "execution_count": 109,
   "id": "3a3101d2",
   "metadata": {},
   "outputs": [
    {
     "name": "stdout",
     "output_type": "stream",
     "text": [
      "X_train shape : (35000, 18)\n",
      "X_test shape : (15000, 18)\n",
      "y_train shape : (35000,)\n",
      "y_test shape : (15000,)\n"
     ]
    }
   ],
   "source": [
    "# spliting the Y variable\n",
    "\n",
    "X_train= train_35k.drop(columns=[\"loan_status\"])\n",
    "\n",
    "X_test= strat_test_15k.drop(columns=[\"loan_status\"])\n",
    "\n",
    "y_train= train_35k[\"loan_status\"]\n",
    "\n",
    "y_test= strat_test_15k[\"loan_status\"]\n",
    "\n",
    "print(\"X_train shape :\", X_train.shape)\n",
    "\n",
    "print(\"X_test shape :\", X_test.shape)\n",
    "\n",
    "print(\"y_train shape :\", y_train.shape)\n",
    "\n",
    "print(\"y_test shape :\", y_test.shape)"
   ]
  },
  {
   "cell_type": "code",
   "execution_count": 110,
   "id": "2a9a39e7",
   "metadata": {},
   "outputs": [
    {
     "data": {
      "text/plain": [
       "0    25307\n",
       "1     9693\n",
       "Name: loan_status, dtype: int64"
      ]
     },
     "execution_count": 110,
     "metadata": {},
     "output_type": "execute_result"
    }
   ],
   "source": [
    "a=y_train.value_counts()\n",
    "a"
   ]
  },
  {
   "cell_type": "markdown",
   "id": "941ea9b0",
   "metadata": {},
   "source": [
    "Data is balanced now, lets test the raw models."
   ]
  },
  {
   "cell_type": "code",
   "execution_count": 83,
   "id": "ff1db6d7",
   "metadata": {},
   "outputs": [
    {
     "name": "stderr",
     "output_type": "stream",
     "text": [
      "100%|███████████████████████████████████████████| 29/29 [13:36<00:00, 28.16s/it]"
     ]
    },
    {
     "name": "stdout",
     "output_type": "stream",
     "text": [
      "                               Accuracy  Balanced Accuracy  ROC AUC  F1 Score  \\\n",
      "Model                                                                           \n",
      "RandomForestClassifier             0.78               0.65     0.65      0.80   \n",
      "ExtraTreesClassifier               0.78               0.64     0.64      0.80   \n",
      "BaggingClassifier                  0.76               0.63     0.63      0.78   \n",
      "XGBClassifier                      0.72               0.62     0.62      0.76   \n",
      "NearestCentroid                    0.65               0.62     0.62      0.71   \n",
      "LinearSVC                          0.73               0.61     0.61      0.76   \n",
      "DecisionTreeClassifier             0.64               0.61     0.61      0.69   \n",
      "LGBMClassifier                     0.75               0.60     0.60      0.78   \n",
      "LabelSpreading                     0.65               0.60     0.60      0.70   \n",
      "LabelPropagation                   0.65               0.60     0.60      0.70   \n",
      "SGDClassifier                      0.76               0.60     0.60      0.78   \n",
      "AdaBoostClassifier                 0.76               0.59     0.59      0.78   \n",
      "KNeighborsClassifier               0.71               0.59     0.59      0.74   \n",
      "ExtraTreeClassifier                0.64               0.59     0.59      0.69   \n",
      "BernoulliNB                        0.75               0.59     0.59      0.77   \n",
      "LinearDiscriminantAnalysis         0.80               0.58     0.58      0.80   \n",
      "LogisticRegression                 0.80               0.58     0.58      0.80   \n",
      "CalibratedClassifierCV             0.80               0.57     0.57      0.80   \n",
      "Perceptron                         0.75               0.57     0.57      0.77   \n",
      "RidgeClassifier                    0.81               0.57     0.57      0.80   \n",
      "RidgeClassifierCV                  0.81               0.57     0.57      0.80   \n",
      "GaussianNB                         0.30               0.56     0.56      0.32   \n",
      "NuSVC                              0.50               0.55     0.55      0.58   \n",
      "SVC                                0.84               0.54     0.54      0.81   \n",
      "PassiveAggressiveClassifier        0.21               0.53     0.53      0.17   \n",
      "DummyClassifier                    0.87               0.50     0.50      0.80   \n",
      "QuadraticDiscriminantAnalysis      0.13               0.50     0.50      0.03   \n",
      "\n",
      "                               Time Taken  \n",
      "Model                                      \n",
      "RandomForestClassifier               4.68  \n",
      "ExtraTreesClassifier                 4.39  \n",
      "BaggingClassifier                    2.21  \n",
      "XGBClassifier                        1.66  \n",
      "NearestCentroid                      0.12  \n",
      "LinearSVC                            5.23  \n",
      "DecisionTreeClassifier               0.52  \n",
      "LGBMClassifier                       0.31  \n",
      "LabelSpreading                     171.21  \n",
      "LabelPropagation                    87.39  \n",
      "SGDClassifier                        0.61  \n",
      "AdaBoostClassifier                   1.68  \n",
      "KNeighborsClassifier                 0.98  \n",
      "ExtraTreeClassifier                  0.16  \n",
      "BernoulliNB                          0.15  \n",
      "LinearDiscriminantAnalysis           0.32  \n",
      "LogisticRegression                   0.39  \n",
      "CalibratedClassifierCV              23.26  \n",
      "Perceptron                           0.13  \n",
      "RidgeClassifier                      0.15  \n",
      "RidgeClassifierCV                    0.18  \n",
      "GaussianNB                           0.18  \n",
      "NuSVC                              420.90  \n",
      "SVC                                 89.22  \n",
      "PassiveAggressiveClassifier          0.22  \n",
      "DummyClassifier                      0.13  \n",
      "QuadraticDiscriminantAnalysis        0.15  \n"
     ]
    },
    {
     "name": "stderr",
     "output_type": "stream",
     "text": [
      "\n"
     ]
    }
   ],
   "source": [
    "clf = LazyClassifier(verbose=0, ignore_warnings=True, custom_metric = None)\n",
    "### fitting data in LazyClassifier\n",
    "models,predictions = clf.fit(X_train, X_test, y_train, y_test)\n",
    "### lets check model performance\n",
    "print(models)"
   ]
  },
  {
   "cell_type": "code",
   "execution_count": 102,
   "id": "0332cc17",
   "metadata": {},
   "outputs": [
    {
     "name": "stderr",
     "output_type": "stream",
     "text": [
      "100%|███████████████████████████████████████████| 29/29 [17:25<00:00, 36.05s/it]"
     ]
    },
    {
     "name": "stdout",
     "output_type": "stream",
     "text": [
      "                               Accuracy  Balanced Accuracy  ROC AUC  F1 Score  \\\n",
      "Model                                                                           \n",
      "ExtraTreesClassifier               0.82               0.62     0.62      0.82   \n",
      "RandomForestClassifier             0.83               0.62     0.62      0.83   \n",
      "BaggingClassifier                  0.80               0.61     0.61      0.81   \n",
      "NearestCentroid                    0.65               0.60     0.60      0.70   \n",
      "PassiveAggressiveClassifier        0.61               0.60     0.60      0.67   \n",
      "DecisionTreeClassifier             0.67               0.60     0.60      0.72   \n",
      "SGDClassifier                      0.72               0.59     0.59      0.75   \n",
      "GaussianNB                         0.70               0.59     0.59      0.74   \n",
      "LabelSpreading                     0.68               0.59     0.59      0.73   \n",
      "LabelPropagation                   0.68               0.59     0.59      0.73   \n",
      "ExtraTreeClassifier                0.68               0.58     0.58      0.72   \n",
      "XGBClassifier                      0.78               0.58     0.58      0.79   \n",
      "LinearSVC                          0.78               0.57     0.57      0.79   \n",
      "NuSVC                              0.68               0.57     0.57      0.73   \n",
      "LGBMClassifier                     0.80               0.57     0.57      0.80   \n",
      "KNeighborsClassifier               0.75               0.57     0.57      0.77   \n",
      "BernoulliNB                        0.79               0.56     0.56      0.79   \n",
      "AdaBoostClassifier                 0.80               0.56     0.56      0.80   \n",
      "LinearDiscriminantAnalysis         0.83               0.55     0.55      0.81   \n",
      "QuadraticDiscriminantAnalysis      0.72               0.55     0.55      0.75   \n",
      "LogisticRegression                 0.84               0.54     0.54      0.81   \n",
      "CalibratedClassifierCV             0.84               0.54     0.54      0.81   \n",
      "RidgeClassifierCV                  0.84               0.54     0.54      0.81   \n",
      "RidgeClassifier                    0.84               0.54     0.54      0.81   \n",
      "SVC                                0.85               0.53     0.53      0.81   \n",
      "Perceptron                         0.86               0.50     0.50      0.80   \n",
      "DummyClassifier                    0.86               0.50     0.50      0.80   \n",
      "\n",
      "                               Time Taken  \n",
      "Model                                      \n",
      "ExtraTreesClassifier                 4.18  \n",
      "RandomForestClassifier               4.90  \n",
      "BaggingClassifier                    2.53  \n",
      "NearestCentroid                      0.12  \n",
      "PassiveAggressiveClassifier          0.30  \n",
      "DecisionTreeClassifier               0.55  \n",
      "SGDClassifier                        0.55  \n",
      "GaussianNB                           0.21  \n",
      "LabelSpreading                     310.45  \n",
      "LabelPropagation                   119.94  \n",
      "ExtraTreeClassifier                  0.17  \n",
      "XGBClassifier                        1.67  \n",
      "LinearSVC                            6.31  \n",
      "NuSVC                              438.62  \n",
      "LGBMClassifier                       0.34  \n",
      "KNeighborsClassifier                 1.03  \n",
      "BernoulliNB                          0.15  \n",
      "AdaBoostClassifier                   1.94  \n",
      "LinearDiscriminantAnalysis           0.36  \n",
      "QuadraticDiscriminantAnalysis        0.16  \n",
      "LogisticRegression                   0.37  \n",
      "CalibratedClassifierCV              20.62  \n",
      "RidgeClassifierCV                    0.21  \n",
      "RidgeClassifier                      0.16  \n",
      "SVC                                129.18  \n",
      "Perceptron                           0.14  \n",
      "DummyClassifier                      0.16  \n"
     ]
    },
    {
     "name": "stderr",
     "output_type": "stream",
     "text": [
      "\n"
     ]
    }
   ],
   "source": [
    "clf = LazyClassifier(verbose=0, ignore_warnings=True, custom_metric = None)\n",
    "### fitting data in LazyClassifier\n",
    "models,predictions = clf.fit(X_train, X_test, y_train, y_test)\n",
    "### lets check model performance\n",
    "print(models)"
   ]
  },
  {
   "cell_type": "code",
   "execution_count": 111,
   "id": "37171409",
   "metadata": {},
   "outputs": [
    {
     "name": "stderr",
     "output_type": "stream",
     "text": [
      "100%|███████████████████████████████████████████| 29/29 [16:53<00:00, 34.94s/it]"
     ]
    },
    {
     "name": "stdout",
     "output_type": "stream",
     "text": [
      "                               Accuracy  Balanced Accuracy  ROC AUC  F1 Score  \\\n",
      "Model                                                                           \n",
      "RandomForestClassifier             0.83               0.61     0.61      0.82   \n",
      "ExtraTreesClassifier               0.82               0.60     0.60      0.82   \n",
      "GaussianNB                         0.70               0.60     0.60      0.74   \n",
      "NearestCentroid                    0.65               0.60     0.60      0.70   \n",
      "BaggingClassifier                  0.79               0.60     0.60      0.80   \n",
      "DecisionTreeClassifier             0.67               0.59     0.59      0.72   \n",
      "ExtraTreeClassifier                0.67               0.58     0.58      0.72   \n",
      "LabelSpreading                     0.68               0.58     0.58      0.72   \n",
      "LabelPropagation                   0.68               0.58     0.58      0.72   \n",
      "XGBClassifier                      0.78               0.58     0.58      0.79   \n",
      "PassiveAggressiveClassifier        0.36               0.57     0.57      0.41   \n",
      "QuadraticDiscriminantAnalysis      0.71               0.57     0.57      0.74   \n",
      "NuSVC                              0.69               0.57     0.57      0.73   \n",
      "BernoulliNB                        0.79               0.56     0.56      0.79   \n",
      "LGBMClassifier                     0.81               0.56     0.56      0.80   \n",
      "KNeighborsClassifier               0.74               0.56     0.56      0.76   \n",
      "AdaBoostClassifier                 0.81               0.55     0.55      0.80   \n",
      "LinearDiscriminantAnalysis         0.83               0.54     0.54      0.80   \n",
      "CalibratedClassifierCV             0.84               0.53     0.53      0.80   \n",
      "LogisticRegression                 0.83               0.53     0.53      0.80   \n",
      "LinearSVC                          0.84               0.53     0.53      0.80   \n",
      "RidgeClassifier                    0.84               0.53     0.53      0.80   \n",
      "RidgeClassifierCV                  0.84               0.53     0.53      0.80   \n",
      "SVC                                0.86               0.51     0.51      0.80   \n",
      "SGDClassifier                      0.86               0.51     0.51      0.80   \n",
      "Perceptron                         0.86               0.50     0.50      0.79   \n",
      "DummyClassifier                    0.86               0.50     0.50      0.79   \n",
      "\n",
      "                               Time Taken  \n",
      "Model                                      \n",
      "RandomForestClassifier               4.71  \n",
      "ExtraTreesClassifier                 5.86  \n",
      "GaussianNB                           0.20  \n",
      "NearestCentroid                      0.11  \n",
      "BaggingClassifier                    2.53  \n",
      "DecisionTreeClassifier               0.88  \n",
      "ExtraTreeClassifier                  0.32  \n",
      "LabelSpreading                     176.38  \n",
      "LabelPropagation                   211.69  \n",
      "XGBClassifier                        1.86  \n",
      "PassiveAggressiveClassifier          0.23  \n",
      "QuadraticDiscriminantAnalysis        0.17  \n",
      "NuSVC                              452.23  \n",
      "BernoulliNB                          0.14  \n",
      "LGBMClassifier                       0.45  \n",
      "KNeighborsClassifier                 1.07  \n",
      "AdaBoostClassifier                   1.54  \n",
      "LinearDiscriminantAnalysis           0.30  \n",
      "CalibratedClassifierCV              25.83  \n",
      "LogisticRegression                   0.38  \n",
      "LinearSVC                            3.82  \n",
      "RidgeClassifier                      0.20  \n",
      "RidgeClassifierCV                    0.29  \n",
      "SVC                                120.78  \n",
      "SGDClassifier                        0.81  \n",
      "Perceptron                           0.17  \n",
      "DummyClassifier                      0.15  \n"
     ]
    },
    {
     "name": "stderr",
     "output_type": "stream",
     "text": [
      "\n"
     ]
    }
   ],
   "source": [
    "clf = LazyClassifier(verbose=0, ignore_warnings=True, custom_metric = None)\n",
    "### fitting data in LazyClassifier\n",
    "models,predictions = clf.fit(X_train, X_test, y_train, y_test)\n",
    "### lets check model performance\n",
    "print(models)"
   ]
  },
  {
   "cell_type": "markdown",
   "id": "c3befae8",
   "metadata": {},
   "source": [
    "After balancing the target variable, accuracy has increased. Now, we will try to fit the data into ensemblers after feature encoding."
   ]
  }
 ],
 "metadata": {
  "kernelspec": {
   "display_name": "Python 3 (ipykernel)",
   "language": "python",
   "name": "python3"
  },
  "language_info": {
   "codemirror_mode": {
    "name": "ipython",
    "version": 3
   },
   "file_extension": ".py",
   "mimetype": "text/x-python",
   "name": "python",
   "nbconvert_exporter": "python",
   "pygments_lexer": "ipython3",
   "version": "3.11.0"
  }
 },
 "nbformat": 4,
 "nbformat_minor": 5
}
